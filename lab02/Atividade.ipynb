{
  "cells": [
    {
      "cell_type": "code",
      "execution_count": 9,
      "metadata": {
        "id": "UbrScE2A285b"
      },
      "outputs": [],
      "source": [
        "from PIL import Image\n",
        "import matplotlib.pyplot as plt\n",
        "import numpy as np\n",
        "\n",
        "# Carregar imagens\n",
        "circle_img = Image.open('/content/circle.jpg')\n",
        "line_img = Image.open('/content/line.jpg')\n",
        "\n",
        "# Converter para RGB\n",
        "circle_img = circle_img.convert('RGBA')\n",
        "line_img = line_img.convert('RGBA')\n",
        "\n",
        "# Remova o fundo branco e torne as imagens transparentes\n",
        "circle_img_array = np.array(circle_img)\n",
        "circle_img_array[(circle_img_array[:, :, 0] > 245) & (circle_img_array[:, :, 1] > 245) & (circle_img_array[:, :, 2] > 245), 3] = 0\n",
        "circle_img = Image.fromarray(circle_img_array)\n",
        "\n",
        "line_img_array = np.array(line_img)\n",
        "line_img_array[(line_img_array[:, :, 0] > 245) & (line_img_array[:, :, 1] > 245) & (line_img_array[:, :, 2] > 245), 3] = 0\n",
        "line_img = Image.fromarray(line_img_array)"
      ]
    },
    {
      "cell_type": "code",
      "execution_count": 10,
      "metadata": {
        "id": "-ZHxo84y285n"
      },
      "outputs": [],
      "source": [
        "# head\n",
        "head = circle_img\n",
        "\n",
        "# tronco\n",
        "torso = line_img.rotate(90)  # Rotate the torso 90 degrees\n",
        "\n",
        "# braços\n",
        "arm_width, arm_height = int(torso.width * 0.75), int(torso.height * 0.75)\n",
        "arm_img = line_img.resize((arm_width, arm_height))\n",
        "arm1 = arm_img\n",
        "arm2 = arm_img\n",
        "\n",
        "# pernas\n",
        "leg_width, leg_height = int(arm_width * 2), int(arm_height * 2)\n",
        "leg_img = line_img.resize((leg_width, leg_height))\n",
        "leg1 = leg_img\n",
        "leg2 = leg_img.rotate(90)"
      ]
    },
    {
      "cell_type": "code",
      "execution_count": 11,
      "metadata": {
        "colab": {
          "base_uri": "https://localhost:8080/",
          "height": 435
        },
        "id": "3NqK4WJE285p",
        "outputId": "6b289d26-4063-4930-d133-9c28a452f1ad"
      },
      "outputs": [
        {
          "output_type": "display_data",
          "data": {
            "text/plain": [
              "<Figure size 640x480 with 1 Axes>"
            ],
            "image/png": "[encoded data removed]"
          },
          "metadata": {}
        }
      ],
      "source": [
        "# Boneco\n",
        "stick_figure = Image.new('RGBA', (300, 300), (0, 0, 0, 0))  # Create a transparent background\n",
        "stick_figure.paste(head, (100, 25), head)  # Position the head\n",
        "stick_figure.paste(torso, (100, 75), torso)  # Position the torso\n",
        "stick_figure.paste(arm1, (80, 75), arm1)  # Position the left arm\n",
        "stick_figure.paste(arm2, (140, 75), arm2)  # Position the right arm\n",
        "stick_figure.paste(leg1, (135, 95), leg1)  # Position the left leg\n",
        "stick_figure.paste(leg2, (69, 152), leg2)  # Position the right leg\n",
        "\n",
        "# Imagem Final\n",
        "plt.imshow(stick_figure)\n",
        "plt.show()"
      ]
    },
    {
      "cell_type": "code",
      "execution_count": null,
      "metadata": {
        "id": "20TN1nrX285r"
      },
      "outputs": [],
      "source": []
    }
  ],
  "metadata": {
    "kernelspec": {
      "display_name": "Python 3",
      "language": "python",
      "name": "python3"
    },
    "language_info": {
      "codemirror_mode": {
        "name": "ipython",
        "version": 3
      },
      "file_extension": ".py",
      "mimetype": "text/x-python",
      "name": "python",
      "nbconvert_exporter": "python",
      "pygments_lexer": "ipython3",
      "version": "3.11.9"
    },
    "colab": {
      "provenance": []
    }
  },
  "nbformat": 4,
  "nbformat_minor": 0
}